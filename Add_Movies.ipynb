{
 "cells": [
  {
   "cell_type": "markdown",
   "id": "d0221265",
   "metadata": {},
   "source": [
    "## Personal Movie Database Creator\n",
    "<p>This script isn't beautiful but it should do the trick. The idea is to load up selenium and search for the IMDB id you are interested in. Once found, hit enter on the while loop. This will prompt for the date watch and your rating and add to database </p>"
   ]
  },
  {
   "cell_type": "code",
   "execution_count": 1,
   "id": "14d29cd8",
   "metadata": {},
   "outputs": [
    {
     "ename": "ModuleNotFoundError",
     "evalue": "No module named 'imdb'",
     "output_type": "error",
     "traceback": [
      "\u001b[1;31m---------------------------------------------------------------------------\u001b[0m",
      "\u001b[1;31mModuleNotFoundError\u001b[0m                       Traceback (most recent call last)",
      "\u001b[1;32m~\\AppData\\Local\\Temp\\ipykernel_16944\\1055332056.py\u001b[0m in \u001b[0;36m<module>\u001b[1;34m\u001b[0m\n\u001b[1;32m----> 1\u001b[1;33m \u001b[1;32mfrom\u001b[0m \u001b[0mmoviefind\u001b[0m \u001b[1;32mimport\u001b[0m \u001b[0mMovieParse\u001b[0m\u001b[1;33m\u001b[0m\u001b[1;33m\u001b[0m\u001b[0m\n\u001b[0m\u001b[0;32m      2\u001b[0m \u001b[1;31m# from selenium.webdriver import Firefox\u001b[0m\u001b[1;33m\u001b[0m\u001b[1;33m\u001b[0m\u001b[0m\n\u001b[0;32m      3\u001b[0m \u001b[1;31m# driver = Firefox(executable_path='./geckodriver')\u001b[0m\u001b[1;33m\u001b[0m\u001b[1;33m\u001b[0m\u001b[0m\n\u001b[0;32m      4\u001b[0m \u001b[1;32mfrom\u001b[0m \u001b[0mselenium\u001b[0m\u001b[1;33m.\u001b[0m\u001b[0mwebdriver\u001b[0m \u001b[1;32mimport\u001b[0m \u001b[0mEdge\u001b[0m\u001b[1;33m\u001b[0m\u001b[1;33m\u001b[0m\u001b[0m\n\u001b[0;32m      5\u001b[0m \u001b[1;33m\u001b[0m\u001b[0m\n",
      "\u001b[1;32mD:\\Archived\\Assorted\\MovieDb\\movietracker\\moviefind.py\u001b[0m in \u001b[0;36m<module>\u001b[1;34m\u001b[0m\n\u001b[1;32m----> 1\u001b[1;33m \u001b[1;32mfrom\u001b[0m \u001b[0mimdb\u001b[0m \u001b[1;32mimport\u001b[0m \u001b[0mIMDb\u001b[0m\u001b[1;33m\u001b[0m\u001b[1;33m\u001b[0m\u001b[0m\n\u001b[0m\u001b[0;32m      2\u001b[0m \u001b[1;32mfrom\u001b[0m \u001b[0mlxml\u001b[0m \u001b[1;32mimport\u001b[0m \u001b[0metree\u001b[0m\u001b[1;33m\u001b[0m\u001b[1;33m\u001b[0m\u001b[0m\n\u001b[0;32m      3\u001b[0m \u001b[1;32mimport\u001b[0m \u001b[0mpandas\u001b[0m \u001b[1;32mas\u001b[0m \u001b[0mpd\u001b[0m\u001b[1;33m\u001b[0m\u001b[1;33m\u001b[0m\u001b[0m\n\u001b[0;32m      4\u001b[0m \u001b[1;32mfrom\u001b[0m \u001b[0msqlite_db_reader\u001b[0m \u001b[1;32mimport\u001b[0m \u001b[0mcreate_database\u001b[0m\u001b[1;33m,\u001b[0m \u001b[0mcreate_tables\u001b[0m\u001b[1;33m,\u001b[0m \u001b[0madd_data\u001b[0m\u001b[1;33m,\u001b[0m \u001b[0mread_data\u001b[0m\u001b[1;33m\u001b[0m\u001b[1;33m\u001b[0m\u001b[0m\n\u001b[0;32m      5\u001b[0m \u001b[1;32mfrom\u001b[0m \u001b[0mtransformations\u001b[0m \u001b[1;32mimport\u001b[0m \u001b[0mimdb_person_transform\u001b[0m\u001b[1;33m,\u001b[0m \u001b[0mimdb_company_transform\u001b[0m\u001b[1;33m,\u001b[0m \u001b[0mimdb_movie_transform\u001b[0m\u001b[1;33m\u001b[0m\u001b[1;33m\u001b[0m\u001b[0m\n",
      "\u001b[1;31mModuleNotFoundError\u001b[0m: No module named 'imdb'"
     ]
    }
   ],
   "source": [
    "import os\n",
    "from moviefind import MovieParse\n",
    "from selenium.webdriver import Edge\n",
    "\n",
    "# Build the path to the msedgedriver.exe file dynamically\n",
    "driver_path = os.path.join(os.getcwd(), 'edgedriver_win64', 'msedgedriver.exe')\n",
    "driver = Edge(executable_path=driver_path)\n",
    "\n",
    "driver.get('http://www.imdb.com') # switch to title search "
   ]
  },
  {
   "cell_type": "markdown",
   "id": "4db4557a",
   "metadata": {},
   "source": [
    "### While loop for adding data\n",
    "<p> Each loop will add your movie to the database</p>"
   ]
  },
  {
   "cell_type": "code",
   "execution_count": null,
   "id": "9a9488d8",
   "metadata": {},
   "outputs": [],
   "source": [
    "year='2022'\n",
    "month='08'\n",
    "while True:\n",
    "    r = input('Add Movie? ')\n",
    "    if r=='q':\n",
    "        break\n",
    "    elif r=='year':\n",
    "        year = input('What year?')\n",
    "    elif r=='month':\n",
    "        month = input('What month?')\n",
    "    else:\n",
    "        print(driver.find_element_by_xpath('//h1').text)\n",
    "        movieid = driver.current_url.split('/')[-2].lstrip('tt')\n",
    "        date_watched = input('Date watched? {}-{}-'.format(year, month))\n",
    "        date_watched = '{}-{}-{}'.format(year, month, date_watched)\n",
    "        rating = input('Rating? ')\n",
    "    \n",
    "        try:\n",
    "            int(rating)\n",
    "        except ValueError:\n",
    "            print('Rating incorrect')\n",
    "        \n",
    "        method = input('Method: ')\n",
    "        \n",
    "        m = MovieParse(movieid, date_watched, rating, method)\n",
    "        continue\n"
   ]
  },
  {
   "cell_type": "code",
   "execution_count": null,
   "id": "cdd64b93",
   "metadata": {},
   "outputs": [],
   "source": []
  }
 ],
 "metadata": {
  "kernelspec": {
   "display_name": "venv",
   "language": "python",
   "name": "venv"
  },
  "language_info": {
   "codemirror_mode": {
    "name": "ipython",
    "version": 3
   },
   "file_extension": ".py",
   "mimetype": "text/x-python",
   "name": "python",
   "nbconvert_exporter": "python",
   "pygments_lexer": "ipython3",
   "version": "3.9.13"
  }
 },
 "nbformat": 4,
 "nbformat_minor": 5
}
