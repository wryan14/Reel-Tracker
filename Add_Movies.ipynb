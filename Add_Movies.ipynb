{
 "cells": [
  {
   "attachments": {},
   "cell_type": "markdown",
   "id": "d0221265",
   "metadata": {},
   "source": [
    "## Reel-Tracker: Personal Movie Database Creator\n",
    "<p>This script isn't beautiful but it should do the trick. The idea is to load up Selenium and search for the IMDB id you are interested in. Once found, hit enter on the while loop. This will prompt for the date watched and your rating and add it to the Reel-Tracker database.</p> \n",
    "<p>This updated markdown refers to the project as \"Reel-Tracker\" throughout and clarifies that the script adds data to the Reel-Tracker database.</p>"
   ]
  },
  {
   "cell_type": "code",
   "execution_count": 3,
   "id": "14d29cd8",
   "metadata": {},
   "outputs": [
    {
     "name": "stderr",
     "output_type": "stream",
     "text": [
      "C:\\Users\\xsltl\\AppData\\Local\\Temp\\ipykernel_11384\\1915849149.py:8: DeprecationWarning: executable_path has been deprecated, please pass in a Service object\n",
      "  driver = Edge(executable_path=driver_path)\n"
     ]
    }
   ],
   "source": [
    "import os\n",
    "from moviefind import MovieParse\n",
    "from selenium.webdriver import Edge\n",
    "from selenium.webdriver.common.by import By\n",
    "\n",
    "# Build the path to the msedgedriver.exe file dynamically\n",
    "driver_path = os.path.join(os.getcwd(), 'edgedriver_win64', 'msedgedriver.exe')\n",
    "driver = Edge(executable_path=driver_path)\n",
    "\n",
    "driver.get('http://www.imdb.com') # switch to title search "
   ]
  },
  {
   "cell_type": "markdown",
   "id": "4db4557a",
   "metadata": {},
   "source": [
    "### While loop for adding data\n",
    "<p> Each loop will add your movie to the database</p>"
   ]
  },
  {
   "cell_type": "code",
   "execution_count": 4,
   "id": "9a9488d8",
   "metadata": {},
   "outputs": [
    {
     "name": "stdout",
     "output_type": "stream",
     "text": [
      "Lifemark\n"
     ]
    }
   ],
   "source": [
    "year='2022'\n",
    "month='09'\n",
    "while True:\n",
    "    r = input('Add Movie? ')\n",
    "    if r=='q':\n",
    "        break\n",
    "    elif r=='year':\n",
    "        year = input('What year?')\n",
    "    elif r=='month':\n",
    "        month = input('What month?')\n",
    "    else:\n",
    "        print(driver.find_element(By.XPATH, '//h1').text)\n",
    "        movieid = driver.current_url.split('/')[-2].lstrip('tt')\n",
    "        date_watched = input('Date watched? {}-{}-'.format(year, month))\n",
    "        date_watched = '{}-{}-{}'.format(year, month, date_watched)\n",
    "        rating = input('Rating? ')\n",
    "    \n",
    "        try:\n",
    "            int(rating)\n",
    "        except ValueError:\n",
    "            print('Rating incorrect')\n",
    "        \n",
    "        method = input('Method: ')\n",
    "        \n",
    "        m = MovieParse(movieid, date_watched, rating, method)\n",
    "        continue\n"
   ]
  },
  {
   "cell_type": "code",
   "execution_count": null,
   "id": "d5375880",
   "metadata": {},
   "outputs": [],
   "source": []
  }
 ],
 "metadata": {
  "kernelspec": {
   "display_name": "openai2",
   "language": "python",
   "name": "openai2"
  },
  "language_info": {
   "codemirror_mode": {
    "name": "ipython",
    "version": 3
   },
   "file_extension": ".py",
   "mimetype": "text/x-python",
   "name": "python",
   "nbconvert_exporter": "python",
   "pygments_lexer": "ipython3",
   "version": "3.9.13"
  }
 },
 "nbformat": 4,
 "nbformat_minor": 5
}
