{
 "cells": [
  {
   "cell_type": "markdown",
   "id": "d0221265",
   "metadata": {},
   "source": [
    "## Personal Movie Database Creator\n",
    "<p>This script isn't beautiful but it should do the trick. The idea is to load up selenium and search for the IMDB id you are interested in. Once found, hit enter on the while loop. This will prompt for the date watch and your rating and add to database </p>"
   ]
  },
  {
   "cell_type": "code",
   "execution_count": null,
   "id": "14d29cd8",
   "metadata": {},
   "outputs": [],
   "source": [
    "from moviefind import MovieParse\n",
    "# from selenium.webdriver import Firefox\n",
    "# driver = Firefox(executable_path='./geckodriver')\n",
    "from selenium.webdriver import Edge\n",
    "\n",
    "driver = Edge(r\"C:\\Users\\xsltl\\Documents\\Python\\REEL-TRACKER\\\")\n",
    "driver.get('http://www.imdb.com') # switch to title search "
   ]
  },
  {
   "cell_type": "markdown",
   "id": "4db4557a",
   "metadata": {},
   "source": [
    "### While loop for adding data\n",
    "<p> Each loop will add your movie to the database</p>"
   ]
  },
  {
   "cell_type": "code",
   "execution_count": null,
   "id": "9a9488d8",
   "metadata": {},
   "outputs": [],
   "source": [
    "year='2022'\n",
    "month='08'\n",
    "while True:\n",
    "    r = input('Add Movie? ')\n",
    "    if r=='q':\n",
    "        break\n",
    "    elif r=='year':\n",
    "        year = input('What year?')\n",
    "    elif r=='month':\n",
    "        month = input('What month?')\n",
    "    else:\n",
    "        print(driver.find_element_by_xpath('//h1').text)\n",
    "        movieid = driver.current_url.split('/')[-2].lstrip('tt')\n",
    "        date_watched = input('Date watched? {}-{}-'.format(year, month))\n",
    "        date_watched = '{}-{}-{}'.format(year, month, date_watched)\n",
    "        rating = input('Rating? ')\n",
    "    \n",
    "        try:\n",
    "            int(rating)\n",
    "        except ValueError:\n",
    "            print('Rating incorrect')\n",
    "        \n",
    "        method = input('Method: ')\n",
    "        \n",
    "        m = MovieParse(movieid, date_watched, rating, method)\n",
    "        continue\n"
   ]
  },
  {
   "cell_type": "code",
   "execution_count": null,
   "id": "cdd64b93",
   "metadata": {},
   "outputs": [],
   "source": []
  }
 ],
 "metadata": {
  "kernelspec": {
   "display_name": "venv",
   "language": "python",
   "name": "venv"
  },
  "language_info": {
   "codemirror_mode": {
    "name": "ipython",
    "version": 3
   },
   "file_extension": ".py",
   "mimetype": "text/x-python",
   "name": "python",
   "nbconvert_exporter": "python",
   "pygments_lexer": "ipython3",
   "version": "3.9.5"
  }
 },
 "nbformat": 4,
 "nbformat_minor": 5
}
