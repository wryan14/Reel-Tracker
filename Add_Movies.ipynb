{
 "cells": [
  {
   "attachments": {},
   "cell_type": "markdown",
   "id": "d0221265",
   "metadata": {},
   "source": [
    "## Reel-Tracker: Personal Movie Database Creator\n",
    "<p>This script isn't beautiful but it should do the trick. The idea is to load up Selenium and search for the IMDB id you are interested in. Once found, hit enter on the while loop. This will prompt for the date watched and your rating and add it to the Reel-Tracker database.</p> \n",
    "<p>This updated markdown refers to the project as \"Reel-Tracker\" throughout and clarifies that the script adds data to the Reel-Tracker database.</p>"
   ]
  },
  {
   "cell_type": "code",
   "execution_count": 5,
   "id": "14d29cd8",
   "metadata": {},
   "outputs": [
    {
     "name": "stderr",
     "output_type": "stream",
     "text": [
      "C:\\Users\\xsltl\\AppData\\Local\\Temp\\ipykernel_9616\\1915849149.py:8: DeprecationWarning: executable_path has been deprecated, please pass in a Service object\n",
      "  driver = Edge(executable_path=driver_path)\n"
     ]
    }
   ],
   "source": [
    "import os\n",
    "from moviefind import MovieParse\n",
    "from selenium.webdriver import Edge\n",
    "from selenium.webdriver.common.by import By\n",
    "\n",
    "# Build the path to the msedgedriver.exe file dynamically\n",
    "driver_path = os.path.join(os.getcwd(), 'edgedriver_win64', 'msedgedriver.exe')\n",
    "driver = Edge(executable_path=driver_path)\n",
    "\n",
    "driver.get('http://www.imdb.com') # switch to title search "
   ]
  },
  {
   "cell_type": "markdown",
   "id": "4db4557a",
   "metadata": {},
   "source": [
    "### While loop for adding data\n",
    "<p> Each loop will add your movie to the database</p>"
   ]
  },
  {
   "cell_type": "code",
   "execution_count": 6,
   "id": "9a9488d8",
   "metadata": {},
   "outputs": [
    {
     "name": "stdout",
     "output_type": "stream",
     "text": [
      "Lifemark\n",
      "Hmmm… can't reach this page\n",
      "Rating incorrect\n"
     ]
    },
    {
     "name": "stderr",
     "output_type": "stream",
     "text": [
      "2023-04-14 14:56:05,927 CRITICAL [imdbpy] c:\\Users\\xsltl\\anaconda3\\envs\\openai2\\lib\\site-packages\\imdb\\_exceptions.py:32: IMDbParserError exception raised; args: ('invalid movieID \"www.bing.com\": invalid literal for int() with base 10: \\'www.bing.com\\'',); kwds: {}\n",
      "Traceback (most recent call last):\n",
      "  File \"c:\\Users\\xsltl\\anaconda3\\envs\\openai2\\lib\\site-packages\\imdb\\parser\\http\\__init__.py\", line 313, in _normalize_movieID\n",
      "    return '%07d' % int(movieID)\n",
      "ValueError: invalid literal for int() with base 10: 'www.bing.com'\n"
     ]
    },
    {
     "ename": "IMDbParserError",
     "evalue": "invalid movieID \"www.bing.com\": invalid literal for int() with base 10: 'www.bing.com'",
     "output_type": "error",
     "traceback": [
      "\u001b[1;31m---------------------------------------------------------------------------\u001b[0m",
      "\u001b[1;31mValueError\u001b[0m                                Traceback (most recent call last)",
      "File \u001b[1;32mc:\\Users\\xsltl\\anaconda3\\envs\\openai2\\lib\\site-packages\\imdb\\parser\\http\\__init__.py:313\u001b[0m, in \u001b[0;36mIMDbHTTPAccessSystem._normalize_movieID\u001b[1;34m(self, movieID)\u001b[0m\n\u001b[0;32m    312\u001b[0m \u001b[39mtry\u001b[39;00m:\n\u001b[1;32m--> 313\u001b[0m     \u001b[39mreturn\u001b[39;00m \u001b[39m'\u001b[39m\u001b[39m%07d\u001b[39;00m\u001b[39m'\u001b[39m \u001b[39m%\u001b[39m \u001b[39mint\u001b[39;49m(movieID)\n\u001b[0;32m    314\u001b[0m \u001b[39mexcept\u001b[39;00m \u001b[39mValueError\u001b[39;00m \u001b[39mas\u001b[39;00m e:\n",
      "\u001b[1;31mValueError\u001b[0m: invalid literal for int() with base 10: 'www.bing.com'",
      "\nDuring handling of the above exception, another exception occurred:\n",
      "\u001b[1;31mIMDbParserError\u001b[0m                           Traceback (most recent call last)",
      "Cell \u001b[1;32mIn[6], line 25\u001b[0m\n\u001b[0;32m     21\u001b[0m     \u001b[39mprint\u001b[39m(\u001b[39m'\u001b[39m\u001b[39mRating incorrect\u001b[39m\u001b[39m'\u001b[39m)\n\u001b[0;32m     23\u001b[0m method \u001b[39m=\u001b[39m \u001b[39minput\u001b[39m(\u001b[39m'\u001b[39m\u001b[39mMethod: \u001b[39m\u001b[39m'\u001b[39m)\n\u001b[1;32m---> 25\u001b[0m m \u001b[39m=\u001b[39m MovieParse(movieid, date_watched, rating, method)\n\u001b[0;32m     26\u001b[0m \u001b[39mcontinue\u001b[39;00m\n",
      "File \u001b[1;32mc:\\Users\\xsltl\\Documents\\Python\\Reel-Tracker\\moviefind.py:31\u001b[0m, in \u001b[0;36mMovieParse.__init__\u001b[1;34m(self, movieid, watchdate, rating, method)\u001b[0m\n\u001b[0;32m     29\u001b[0m     \u001b[39mself\u001b[39m\u001b[39m.\u001b[39minsert_data(personal_only\u001b[39m=\u001b[39m\u001b[39mTrue\u001b[39;00m)\n\u001b[0;32m     30\u001b[0m \u001b[39melse\u001b[39;00m:\n\u001b[1;32m---> 31\u001b[0m     \u001b[39mself\u001b[39m\u001b[39m.\u001b[39mroot \u001b[39m=\u001b[39m imdb_api(\u001b[39mself\u001b[39;49m\u001b[39m.\u001b[39;49mmovieid)\n\u001b[0;32m     32\u001b[0m     \u001b[39mself\u001b[39m\u001b[39m.\u001b[39minsert_data()\n",
      "File \u001b[1;32mc:\\Users\\xsltl\\Documents\\Python\\Reel-Tracker\\moviefind.py:86\u001b[0m, in \u001b[0;36mimdb_api\u001b[1;34m(movieid)\u001b[0m\n\u001b[0;32m     84\u001b[0m \u001b[39mdef\u001b[39;00m \u001b[39mimdb_api\u001b[39m(movieid):\n\u001b[0;32m     85\u001b[0m     ia \u001b[39m=\u001b[39m IMDb()\n\u001b[1;32m---> 86\u001b[0m     tmp \u001b[39m=\u001b[39m ia\u001b[39m.\u001b[39;49mget_movie(movieid)\n\u001b[0;32m     87\u001b[0m     root \u001b[39m=\u001b[39m etree\u001b[39m.\u001b[39mfromstring(tmp\u001b[39m.\u001b[39masXML())\n\u001b[0;32m     88\u001b[0m     \u001b[39mreturn\u001b[39;00m root\n",
      "File \u001b[1;32mc:\\Users\\xsltl\\anaconda3\\envs\\openai2\\lib\\site-packages\\imdb\\__init__.py:423\u001b[0m, in \u001b[0;36mIMDbBase.get_movie\u001b[1;34m(self, movieID, info, modFunct)\u001b[0m\n\u001b[0;32m    412\u001b[0m \u001b[39mdef\u001b[39;00m \u001b[39mget_movie\u001b[39m(\u001b[39mself\u001b[39m, movieID, info\u001b[39m=\u001b[39mMovie\u001b[39m.\u001b[39mMovie\u001b[39m.\u001b[39mdefault_info, modFunct\u001b[39m=\u001b[39m\u001b[39mNone\u001b[39;00m):\n\u001b[0;32m    413\u001b[0m     \u001b[39m\"\"\"Return a Movie object for the given movieID.\u001b[39;00m\n\u001b[0;32m    414\u001b[0m \n\u001b[0;32m    415\u001b[0m \u001b[39m    The movieID is something used to univocally identify a movie;\u001b[39;00m\n\u001b[1;32m   (...)\u001b[0m\n\u001b[0;32m    421\u001b[0m \u001b[39m    If specified, modFunct will be the function used by the Movie\u001b[39;00m\n\u001b[0;32m    422\u001b[0m \u001b[39m    object when accessing its text fields (like 'plot').\"\"\"\u001b[39;00m\n\u001b[1;32m--> 423\u001b[0m     movieID \u001b[39m=\u001b[39m \u001b[39mself\u001b[39;49m\u001b[39m.\u001b[39;49m_normalize_movieID(movieID)\n\u001b[0;32m    424\u001b[0m     movieID \u001b[39m=\u001b[39m \u001b[39mself\u001b[39m\u001b[39m.\u001b[39m_get_real_movieID(movieID)\n\u001b[0;32m    425\u001b[0m     movie \u001b[39m=\u001b[39m Movie\u001b[39m.\u001b[39mMovie(movieID\u001b[39m=\u001b[39mmovieID, accessSystem\u001b[39m=\u001b[39m\u001b[39mself\u001b[39m\u001b[39m.\u001b[39maccessSystem)\n",
      "File \u001b[1;32mc:\\Users\\xsltl\\anaconda3\\envs\\openai2\\lib\\site-packages\\imdb\\parser\\http\\__init__.py:315\u001b[0m, in \u001b[0;36mIMDbHTTPAccessSystem._normalize_movieID\u001b[1;34m(self, movieID)\u001b[0m\n\u001b[0;32m    313\u001b[0m     \u001b[39mreturn\u001b[39;00m \u001b[39m'\u001b[39m\u001b[39m%07d\u001b[39;00m\u001b[39m'\u001b[39m \u001b[39m%\u001b[39m \u001b[39mint\u001b[39m(movieID)\n\u001b[0;32m    314\u001b[0m \u001b[39mexcept\u001b[39;00m \u001b[39mValueError\u001b[39;00m \u001b[39mas\u001b[39;00m e:\n\u001b[1;32m--> 315\u001b[0m     \u001b[39mraise\u001b[39;00m IMDbParserError(\u001b[39m'\u001b[39m\u001b[39minvalid movieID \u001b[39m\u001b[39m\"\u001b[39m\u001b[39m%s\u001b[39;00m\u001b[39m\"\u001b[39m\u001b[39m: \u001b[39m\u001b[39m%s\u001b[39;00m\u001b[39m'\u001b[39m \u001b[39m%\u001b[39m (movieID, e))\n",
      "\u001b[1;31mIMDbParserError\u001b[0m: invalid movieID \"www.bing.com\": invalid literal for int() with base 10: 'www.bing.com'"
     ]
    }
   ],
   "source": [
    "year='2022'\n",
    "month='09'\n",
    "while True:\n",
    "    r = input('Add Movie? ')\n",
    "    if r=='q':\n",
    "        break\n",
    "    elif r=='year':\n",
    "        year = input('What year?')\n",
    "    elif r=='month':\n",
    "        month = input('What month?')\n",
    "    else:\n",
    "        print(driver.find_element(By.XPATH, '//h1').text)\n",
    "        movieid = driver.current_url.split('/')[-2].lstrip('tt')\n",
    "        date_watched = input('Date watched? {}-{}-'.format(year, month))\n",
    "        date_watched = '{}-{}-{}'.format(year, month, date_watched)\n",
    "        rating = input('Rating? ')\n",
    "    \n",
    "        try:\n",
    "            int(rating)\n",
    "        except ValueError:\n",
    "            print('Rating incorrect')\n",
    "        \n",
    "        method = input('Method: ')\n",
    "        \n",
    "        m = MovieParse(movieid, date_watched, rating, method)\n",
    "        continue\n"
   ]
  },
  {
   "cell_type": "code",
   "execution_count": null,
   "id": "d5375880",
   "metadata": {},
   "outputs": [],
   "source": []
  }
 ],
 "metadata": {
  "kernelspec": {
   "display_name": "openai2",
   "language": "python",
   "name": "openai2"
  },
  "language_info": {
   "codemirror_mode": {
    "name": "ipython",
    "version": 3
   },
   "file_extension": ".py",
   "mimetype": "text/x-python",
   "name": "python",
   "nbconvert_exporter": "python",
   "pygments_lexer": "ipython3",
   "version": "3.9.13"
  }
 },
 "nbformat": 4,
 "nbformat_minor": 5
}
