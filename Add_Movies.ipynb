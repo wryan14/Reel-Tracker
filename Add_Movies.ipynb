{
 "cells": [
  {
   "attachments": {},
   "cell_type": "markdown",
   "id": "d0221265",
   "metadata": {},
   "source": [
    "## Reel-Tracker: Personal Movie Database Creator\n",
    "<p>This script isn't beautiful but it should do the trick. The idea is to load up Selenium and search for the IMDB id you are interested in. Once found, hit enter on the while loop. This will prompt for the date watched and your rating and add it to the Reel-Tracker database.</p> \n",
    "<p>This updated markdown refers to the project as \"Reel-Tracker\" throughout and clarifies that the script adds data to the Reel-Tracker database.</p>"
   ]
  },
  {
   "cell_type": "code",
   "execution_count": 1,
   "id": "14d29cd8",
   "metadata": {},
   "outputs": [
    {
     "name": "stderr",
     "output_type": "stream",
     "text": [
      "C:\\Users\\xsltl\\AppData\\Local\\Temp\\ipykernel_7112\\1915849149.py:8: DeprecationWarning: executable_path has been deprecated, please pass in a Service object\n",
      "  driver = Edge(executable_path=driver_path)\n"
     ]
    }
   ],
   "source": [
    "import os\n",
    "from moviefind import MovieParse\n",
    "from selenium.webdriver import Edge\n",
    "from selenium.webdriver.common.by import By\n",
    "\n",
    "# Build the path to the msedgedriver.exe file dynamically\n",
    "driver_path = os.path.join(os.getcwd(), 'edgedriver_win64', 'msedgedriver.exe')\n",
    "driver = Edge(executable_path=driver_path)\n",
    "\n",
    "driver.get('http://www.imdb.com') # switch to title search "
   ]
  },
  {
   "cell_type": "markdown",
   "id": "4db4557a",
   "metadata": {},
   "source": [
    "### While loop for adding data\n",
    "<p> Each loop will add your movie to the database</p>"
   ]
  },
  {
   "cell_type": "code",
   "execution_count": 2,
   "id": "9a9488d8",
   "metadata": {},
   "outputs": [
    {
     "name": "stdout",
     "output_type": "stream",
     "text": [
      "Lifemark\n",
      "Lifemark\n",
      "Rating incorrect\n",
      "Duplicate Movie: adding personal data\n",
      "Lifemark\n",
      "Rating incorrect\n"
     ]
    },
    {
     "ename": "KeyboardInterrupt",
     "evalue": "Interrupted by user",
     "output_type": "error",
     "traceback": [
      "\u001b[1;31m---------------------------------------------------------------------------\u001b[0m",
      "\u001b[1;31mKeyboardInterrupt\u001b[0m                         Traceback (most recent call last)",
      "Cell \u001b[1;32mIn[2], line 23\u001b[0m\n\u001b[0;32m     20\u001b[0m \u001b[39mexcept\u001b[39;00m \u001b[39mValueError\u001b[39;00m:\n\u001b[0;32m     21\u001b[0m     \u001b[39mprint\u001b[39m(\u001b[39m'\u001b[39m\u001b[39mRating incorrect\u001b[39m\u001b[39m'\u001b[39m)\n\u001b[1;32m---> 23\u001b[0m method \u001b[39m=\u001b[39m \u001b[39minput\u001b[39;49m(\u001b[39m'\u001b[39;49m\u001b[39mMethod: \u001b[39;49m\u001b[39m'\u001b[39;49m)\n\u001b[0;32m     25\u001b[0m m \u001b[39m=\u001b[39m MovieParse(movieid, date_watched, rating, method)\n\u001b[0;32m     26\u001b[0m \u001b[39mcontinue\u001b[39;00m\n",
      "File \u001b[1;32mc:\\Users\\xsltl\\anaconda3\\envs\\openai2\\lib\\site-packages\\ipykernel\\kernelbase.py:1175\u001b[0m, in \u001b[0;36mKernel.raw_input\u001b[1;34m(self, prompt)\u001b[0m\n\u001b[0;32m   1171\u001b[0m \u001b[39mif\u001b[39;00m \u001b[39mnot\u001b[39;00m \u001b[39mself\u001b[39m\u001b[39m.\u001b[39m_allow_stdin:\n\u001b[0;32m   1172\u001b[0m     \u001b[39mraise\u001b[39;00m StdinNotImplementedError(\n\u001b[0;32m   1173\u001b[0m         \u001b[39m\"\u001b[39m\u001b[39mraw_input was called, but this frontend does not support input requests.\u001b[39m\u001b[39m\"\u001b[39m\n\u001b[0;32m   1174\u001b[0m     )\n\u001b[1;32m-> 1175\u001b[0m \u001b[39mreturn\u001b[39;00m \u001b[39mself\u001b[39;49m\u001b[39m.\u001b[39;49m_input_request(\n\u001b[0;32m   1176\u001b[0m     \u001b[39mstr\u001b[39;49m(prompt),\n\u001b[0;32m   1177\u001b[0m     \u001b[39mself\u001b[39;49m\u001b[39m.\u001b[39;49m_parent_ident[\u001b[39m\"\u001b[39;49m\u001b[39mshell\u001b[39;49m\u001b[39m\"\u001b[39;49m],\n\u001b[0;32m   1178\u001b[0m     \u001b[39mself\u001b[39;49m\u001b[39m.\u001b[39;49mget_parent(\u001b[39m\"\u001b[39;49m\u001b[39mshell\u001b[39;49m\u001b[39m\"\u001b[39;49m),\n\u001b[0;32m   1179\u001b[0m     password\u001b[39m=\u001b[39;49m\u001b[39mFalse\u001b[39;49;00m,\n\u001b[0;32m   1180\u001b[0m )\n",
      "File \u001b[1;32mc:\\Users\\xsltl\\anaconda3\\envs\\openai2\\lib\\site-packages\\ipykernel\\kernelbase.py:1217\u001b[0m, in \u001b[0;36mKernel._input_request\u001b[1;34m(self, prompt, ident, parent, password)\u001b[0m\n\u001b[0;32m   1214\u001b[0m             \u001b[39mbreak\u001b[39;00m\n\u001b[0;32m   1215\u001b[0m \u001b[39mexcept\u001b[39;00m \u001b[39mKeyboardInterrupt\u001b[39;00m:\n\u001b[0;32m   1216\u001b[0m     \u001b[39m# re-raise KeyboardInterrupt, to truncate traceback\u001b[39;00m\n\u001b[1;32m-> 1217\u001b[0m     \u001b[39mraise\u001b[39;00m \u001b[39mKeyboardInterrupt\u001b[39;00m(\u001b[39m\"\u001b[39m\u001b[39mInterrupted by user\u001b[39m\u001b[39m\"\u001b[39m) \u001b[39mfrom\u001b[39;00m \u001b[39mNone\u001b[39m\n\u001b[0;32m   1218\u001b[0m \u001b[39mexcept\u001b[39;00m \u001b[39mException\u001b[39;00m:\n\u001b[0;32m   1219\u001b[0m     \u001b[39mself\u001b[39m\u001b[39m.\u001b[39mlog\u001b[39m.\u001b[39mwarning(\u001b[39m\"\u001b[39m\u001b[39mInvalid Message:\u001b[39m\u001b[39m\"\u001b[39m, exc_info\u001b[39m=\u001b[39m\u001b[39mTrue\u001b[39;00m)\n",
      "\u001b[1;31mKeyboardInterrupt\u001b[0m: Interrupted by user"
     ]
    }
   ],
   "source": [
    "year='2022'\n",
    "month='09'\n",
    "while True:\n",
    "    r = input('Add Movie? ')\n",
    "    if r=='q':\n",
    "        break\n",
    "    elif r=='year':\n",
    "        year = input('What year?')\n",
    "    elif r=='month':\n",
    "        month = input('What month?')\n",
    "    else:\n",
    "        print(driver.find_element(By.XPATH, '//h1').text)\n",
    "        movieid = driver.current_url.split('/')[-2].lstrip('tt')\n",
    "        date_watched = input('Date watched? {}-{}-'.format(year, month))\n",
    "        date_watched = '{}-{}-{}'.format(year, month, date_watched)\n",
    "        rating = input('Rating? ')\n",
    "    \n",
    "        try:\n",
    "            int(rating)\n",
    "        except ValueError:\n",
    "            print('Rating incorrect')\n",
    "        \n",
    "        method = input('Method: ')\n",
    "        \n",
    "        m = MovieParse(movieid, date_watched, rating, method)\n",
    "        continue\n"
   ]
  },
  {
   "cell_type": "code",
   "execution_count": null,
   "id": "d5375880",
   "metadata": {},
   "outputs": [],
   "source": []
  }
 ],
 "metadata": {
  "kernelspec": {
   "display_name": "openai2",
   "language": "python",
   "name": "openai2"
  },
  "language_info": {
   "codemirror_mode": {
    "name": "ipython",
    "version": 3
   },
   "file_extension": ".py",
   "mimetype": "text/x-python",
   "name": "python",
   "nbconvert_exporter": "python",
   "pygments_lexer": "ipython3",
   "version": "3.9.13"
  }
 },
 "nbformat": 4,
 "nbformat_minor": 5
}
