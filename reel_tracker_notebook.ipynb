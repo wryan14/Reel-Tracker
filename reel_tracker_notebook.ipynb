{
 "cells": [
  {
   "attachments": {},
   "cell_type": "markdown",
   "id": "d0221265",
   "metadata": {},
   "source": [
    "## Reel-Tracker: Personal Movie Database Creator\n",
    "<p>This script allows you to create a personal movie database using Reel-Tracker. It utilizes Selenium to search for the IMDb ID of the movie you're interested in. Once you've found the movie, enter the required information, such as the date watched and your rating, and the script will add the movie to your Reel-Tracker database.</p>"
   ]
  },
  {
   "cell_type": "code",
   "execution_count": 3,
   "id": "14d29cd8",
   "metadata": {},
   "outputs": [
    {
     "name": "stderr",
     "output_type": "stream",
     "text": [
      "C:\\Users\\xsltl\\AppData\\Local\\Temp\\ipykernel_11384\\1915849149.py:8: DeprecationWarning: executable_path has been deprecated, please pass in a Service object\n",
      "  driver = Edge(executable_path=driver_path)\n"
     ]
    }
   ],
   "source": [
    "import os\n",
    "from reel_tracker import MovieParse\n",
    "from selenium.webdriver import Edge\n",
    "from selenium.webdriver.common.by import By\n",
    "\n",
    "# Build the path to the msedgedriver.exe file dynamically\n",
    "driver_path = os.path.join(os.getcwd(), 'edgedriver_win64', 'msedgedriver.exe')\n",
    "driver = Edge(executable_path=driver_path)\n",
    "\n",
    "driver.get('http://www.imdb.com') # switch to title search "
   ]
  },
  {
   "attachments": {},
   "cell_type": "markdown",
   "id": "4db4557a",
   "metadata": {},
   "source": [
    "### While loop for adding data\n",
    "<p>In this loop, you can add each movie to your personal Reel-Tracker database. For each movie, you will be prompted to enter the date watched, rating, and method.</p>"
   ]
  },
  {
   "cell_type": "code",
   "execution_count": 4,
   "id": "9a9488d8",
   "metadata": {},
   "outputs": [
    {
     "name": "stdout",
     "output_type": "stream",
     "text": [
      "Lifemark\n"
     ]
    }
   ],
   "source": [
    "year='2022'\n",
    "month='09'\n",
    "while True:\n",
    "    r = input('Add Movie? ')\n",
    "    if r=='q':\n",
    "        break\n",
    "    elif r=='year':\n",
    "        year = input('What year?')\n",
    "    elif r=='month':\n",
    "        month = input('What month?')\n",
    "    else:\n",
    "        print(driver.find_element(By.XPATH, '//h1').text)\n",
    "        movieid = driver.current_url.split('/')[-2].lstrip('tt')\n",
    "        date_watched = input('Date watched? {}-{}-'.format(year, month))\n",
    "        date_watched = '{}-{}-{}'.format(year, month, date_watched)\n",
    "        rating = input('Rating? ')\n",
    "    \n",
    "        try:\n",
    "            int(rating)\n",
    "        except ValueError:\n",
    "            print('Rating incorrect')\n",
    "        \n",
    "        method = input('Method: ')\n",
    "        \n",
    "        m = MovieParse(movieid, date_watched, rating, method)\n",
    "        continue\n"
   ]
  },
  {
   "attachments": {},
   "cell_type": "markdown",
   "id": "a7a2c7f6",
   "metadata": {},
   "source": [
    "The loop will continue to add movies to your Reel-Tracker database until you decide to quit by entering 'q'."
   ]
  },
  {
   "cell_type": "markdown",
   "id": "892c7487",
   "metadata": {},
   "source": []
  }
 ],
 "metadata": {
  "kernelspec": {
   "display_name": "openai2",
   "language": "python",
   "name": "openai2"
  },
  "language_info": {
   "codemirror_mode": {
    "name": "ipython",
    "version": 3
   },
   "file_extension": ".py",
   "mimetype": "text/x-python",
   "name": "python",
   "nbconvert_exporter": "python",
   "pygments_lexer": "ipython3",
   "version": "3.9.13"
  }
 },
 "nbformat": 4,
 "nbformat_minor": 5
}
